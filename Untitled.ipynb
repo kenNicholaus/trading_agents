{
 "cells": [
  {
   "cell_type": "code",
   "execution_count": 1,
   "metadata": {},
   "outputs": [],
   "source": [
    "states_buy = []"
   ]
  },
  {
   "cell_type": "code",
   "execution_count": 2,
   "metadata": {},
   "outputs": [],
   "source": [
    "states_sell = [1]"
   ]
  },
  {
   "cell_type": "code",
   "execution_count": 3,
   "metadata": {},
   "outputs": [],
   "source": [
    "len(states_sell)"
   ]
  },
  {
   "cell_type": "code",
   "execution_count": 4,
   "metadata": {},
   "outputs": [],
   "source": [
    "ticker='HRL'\n",
    "name = 'Recurrent Q-learning agent'\n",
    "image_path = 'D:/kenneth/agent/images/'\n",
    "path = 'D:/kenneth/trading/'\n",
    "run_date=open(path+'run_date.txt').read()\n",
    "start=('2019-01-01')\n",
    "end=('2019-12-31')\n",
    "days=30\n",
    "import pandas as pd\n",
    "import os\n",
    "from datetime import date"
   ]
  },
  {
   "cell_type": "code",
   "execution_count": 5,
   "metadata": {},
   "outputs": [],
   "source": [
    "df = pd.read_csv(path+'sp500/'+run_date+'/'+ticker+'.csv', index_col=0, parse_dates=True)\n",
    "df =df[start:end]"
   ]
  },
  {
   "cell_type": "code",
   "execution_count": 6,
   "metadata": {},
   "outputs": [],
   "source": [
    "def save_signals():\n",
    "    path2 = image_path+name+'/signal/'\n",
    "    if not os.path.exists(path2):\n",
    "        os.makedirs(path2)\n",
    "        \n",
    "    if  (len(states_buy)!= 0) and (len(states_sell) != 0):  \n",
    "        if int(states_buy[-1])>int(states_sell[-1]):\n",
    "            last_signal = 'Trading Buy'\n",
    "            signal_day = str(df.index[states_buy[-1]]).split(' ')[0]\n",
    "        else:\n",
    "            last_signal = 'Trading Sell'\n",
    "            signal_day = str(df.index[states_sell[-1]]).split(' ')[0]\n",
    "        \n",
    "    elif len(states_buy)== 0 and len(states_sell)>0:\n",
    "        last_signal = 'Trading Sell'\n",
    "        signal_day = str(df.index[states_sell[-1]]).split(' ')[0]\n",
    "    elif len(states_sell)== 0 and len(states_buy)>0:\n",
    "        last_signal = 'Trading Buy'\n",
    "        signal_day = str(df.index[states_buy[-1]]).split(' ')[0]\n",
    "    elif len(states_sell)== 0 and len(states_buy)==0:\n",
    "        last_signal = 'None'\n",
    "        signal_day = 'None'   \n",
    "    \n",
    "            \n",
    "    print(last_signal, signal_day)\n",
    "\n",
    "#     with open(path2+ticker+'.txt','w') as f:\n",
    "#         print(\n",
    "#             'model_run,','signal_day,','last_signal,','total_gains,','invest,','data_start','\\n',\n",
    "#               str(date.today()),',',signal_day,',',last_signal,',',total_gains,',',invest,',',str(start),\n",
    "#               file=f)\n",
    "# if len(states_buy)== 0 and len(states_sell)>0:\n",
    "#     last_signal = 'Trading Sell'\n",
    "# elif len(states_sell)== 0 and len(states_buy)>0:\n",
    "#     last_signal = 'Trading Buy'\n",
    "# elif len(states_sell)== 0 and len(states_buy)==0:\n",
    "#     last_signal = 'None'\n",
    "# elif int(states_buy[-1])>int(states_sell[-1]):\n",
    "#     last_signal = 'Trading Buy'\n",
    "# else:\n",
    "#     last_signal = 'Trading Sell'\n",
    "# print(last_signal)\n"
   ]
  },
  {
   "cell_type": "code",
   "execution_count": 7,
   "metadata": {},
   "outputs": [
    {
     "name": "stdout",
     "output_type": "stream",
     "text": [
      "Trading Sell 2019-01-03\n"
     ]
    }
   ],
   "source": [
    "save_signals()\n"
   ]
  },
  {
   "cell_type": "code",
   "execution_count": 8,
   "metadata": {},
   "outputs": [
    {
     "ename": "NameError",
     "evalue": "name 'dff' is not defined",
     "output_type": "error",
     "traceback": [
      "\u001b[1;31m---------------------------------------------------------------------------\u001b[0m",
      "\u001b[1;31mNameError\u001b[0m                                 Traceback (most recent call last)",
      "\u001b[1;32m<ipython-input-8-eef74c635d9a>\u001b[0m in \u001b[0;36m<module>\u001b[1;34m()\u001b[0m\n\u001b[1;32m----> 1\u001b[1;33m \u001b[0mdff\u001b[0m\u001b[1;33m\u001b[0m\u001b[0m\n\u001b[0m",
      "\u001b[1;31mNameError\u001b[0m: name 'dff' is not defined"
     ]
    }
   ],
   "source": [
    "dff"
   ]
  },
  {
   "cell_type": "code",
   "execution_count": null,
   "metadata": {},
   "outputs": [],
   "source": [
    "name = 'Recurrent Q-learning agent'\n",
    "image_path = 'D:/kenneth/agent/images/'\n",
    "path = 'D:/kenneth/trading/'\n",
    "run_date=open(path+'run_date.txt').read()\n",
    "start=('2019-01-01')\n",
    "end=('2019-12-31')\n",
    "days=30\n",
    "import pandas as pd\n",
    "ticker='^GSPC'\n",
    "df = pd.read_csv(path+'sp500/'+run_date+'/'+ticker+'.csv', index_col=0, parse_dates=True)\n",
    "df =df[start:end]"
   ]
  },
  {
   "cell_type": "code",
   "execution_count": null,
   "metadata": {},
   "outputs": [],
   "source": [
    "if states_buy[-1]>states_sell[-1]:\n",
    "        last_signal = 'Trading Buy'\n",
    "        signal_day = str(df.index[states_buy[-1]]).split(' ')[0]\n",
    "else:\n",
    "    last_signal = 'Trading Sell'\n",
    "    signal_day = str(df.index[states_sell[-1]]).split(' ')[0]"
   ]
  },
  {
   "cell_type": "code",
   "execution_count": null,
   "metadata": {},
   "outputs": [],
   "source": [
    "last_signal"
   ]
  },
  {
   "cell_type": "code",
   "execution_count": null,
   "metadata": {},
   "outputs": [],
   "source": [
    "signal_day"
   ]
  },
  {
   "cell_type": "code",
   "execution_count": null,
   "metadata": {},
   "outputs": [],
   "source": [
    "    from datetime import date\n",
    "    today = date.today()\n",
    "    print(\"Today's date:\", today)"
   ]
  },
  {
   "cell_type": "code",
   "execution_count": 3,
   "metadata": {},
   "outputs": [],
   "source": [
    "import pandas as pd\n",
    "#names=['model_run','signal_day','last_signal','total_gains','invest','states_buy','states_sell']\n",
    "df1=pd.read_csv('D:/kenneth/agent/images/Recurrent Q-learning agent/signal/a.txt')"
   ]
  },
  {
   "cell_type": "code",
   "execution_count": 7,
   "metadata": {},
   "outputs": [
    {
     "data": {
      "text/html": [
       "<div>\n",
       "<style scoped>\n",
       "    .dataframe tbody tr th:only-of-type {\n",
       "        vertical-align: middle;\n",
       "    }\n",
       "\n",
       "    .dataframe tbody tr th {\n",
       "        vertical-align: top;\n",
       "    }\n",
       "\n",
       "    .dataframe thead th {\n",
       "        text-align: right;\n",
       "    }\n",
       "</style>\n",
       "<table border=\"1\" class=\"dataframe\">\n",
       "  <thead>\n",
       "    <tr style=\"text-align: right;\">\n",
       "      <th></th>\n",
       "      <th>model_run</th>\n",
       "      <th>signal_day</th>\n",
       "      <th>last_signal</th>\n",
       "      <th>total_gains</th>\n",
       "      <th>invest</th>\n",
       "      <th>data_start</th>\n",
       "    </tr>\n",
       "  </thead>\n",
       "  <tbody>\n",
       "    <tr>\n",
       "      <th>0</th>\n",
       "      <td>2019-11-17</td>\n",
       "      <td>2019-07-10</td>\n",
       "      <td>Trading Sell</td>\n",
       "      <td>1.080002</td>\n",
       "      <td>0.0108</td>\n",
       "      <td>2019-01-01</td>\n",
       "    </tr>\n",
       "  </tbody>\n",
       "</table>\n",
       "</div>"
      ],
      "text/plain": [
       "      model_run    signal_day     last_signal   total_gains   invest  \\\n",
       "0   2019-11-17    2019-07-10    Trading Sell       1.080002   0.0108   \n",
       "\n",
       "   data_start   \n",
       "0   2019-01-01  "
      ]
     },
     "execution_count": 7,
     "metadata": {},
     "output_type": "execute_result"
    }
   ],
   "source": [
    "df1"
   ]
  },
  {
   "cell_type": "code",
   "execution_count": 9,
   "metadata": {},
   "outputs": [
    {
     "data": {
      "text/html": [
       "<div>\n",
       "<style scoped>\n",
       "    .dataframe tbody tr th:only-of-type {\n",
       "        vertical-align: middle;\n",
       "    }\n",
       "\n",
       "    .dataframe tbody tr th {\n",
       "        vertical-align: top;\n",
       "    }\n",
       "\n",
       "    .dataframe thead th {\n",
       "        text-align: right;\n",
       "    }\n",
       "</style>\n",
       "<table border=\"1\" class=\"dataframe\">\n",
       "  <thead>\n",
       "    <tr style=\"text-align: right;\">\n",
       "      <th></th>\n",
       "      <th>model_run</th>\n",
       "      <th>signal_day</th>\n",
       "      <th>last_signal</th>\n",
       "      <th>total_gains</th>\n",
       "      <th>invest</th>\n",
       "      <th>data_start</th>\n",
       "    </tr>\n",
       "  </thead>\n",
       "  <tbody>\n",
       "    <tr>\n",
       "      <th>0</th>\n",
       "      <td>2019-11-17</td>\n",
       "      <td>2019-07-10</td>\n",
       "      <td>Trading Sell</td>\n",
       "      <td>1.080002</td>\n",
       "      <td>0.0108</td>\n",
       "      <td>2019-01-01</td>\n",
       "    </tr>\n",
       "  </tbody>\n",
       "</table>\n",
       "</div>"
      ],
      "text/plain": [
       "      model_run    signal_day     last_signal   total_gains   invest  \\\n",
       "0   2019-11-17    2019-07-10    Trading Sell       1.080002   0.0108   \n",
       "\n",
       "   data_start   \n",
       "0   2019-01-01  "
      ]
     },
     "execution_count": 9,
     "metadata": {},
     "output_type": "execute_result"
    }
   ],
   "source": [
    "df1.head()"
   ]
  },
  {
   "cell_type": "code",
   "execution_count": 12,
   "metadata": {},
   "outputs": [
    {
     "data": {
      "text/plain": [
       "' Trading Sell '"
      ]
     },
     "execution_count": 12,
     "metadata": {},
     "output_type": "execute_result"
    }
   ],
   "source": [
    "df1.loc[0][2]"
   ]
  },
  {
   "cell_type": "code",
   "execution_count": null,
   "metadata": {},
   "outputs": [],
   "source": []
  }
 ],
 "metadata": {
  "kernelspec": {
   "display_name": "Python [conda env:Anaconda3]",
   "language": "python",
   "name": "conda-env-Anaconda3-py"
  },
  "language_info": {
   "codemirror_mode": {
    "name": "ipython",
    "version": 3
   },
   "file_extension": ".py",
   "mimetype": "text/x-python",
   "name": "python",
   "nbconvert_exporter": "python",
   "pygments_lexer": "ipython3",
   "version": "3.5.6"
  }
 },
 "nbformat": 4,
 "nbformat_minor": 2
}
