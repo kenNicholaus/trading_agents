{
 "cells": [
  {
   "cell_type": "code",
   "execution_count": null,
   "metadata": {},
   "outputs": [],
   "source": [
    "import pandas as pd"
   ]
  },
  {
   "cell_type": "code",
   "execution_count": 1,
   "metadata": {},
   "outputs": [],
   "source": [
    "with open('D:/kenneth/AI/5/earnings6/earnings/static/data/agent/agents.txt',\"r\") as f:\n",
    "        agents=[line.rstrip('\\n') for line in f]"
   ]
  },
  {
   "cell_type": "code",
   "execution_count": 2,
   "metadata": {},
   "outputs": [
    {
     "data": {
      "text/plain": [
       "['Turtle Trading agent',\n",
       " 'Moving Average agent',\n",
       " 'Signal Rolling agent',\n",
       " 'Policy Gradient agent',\n",
       " 'Q-learning agent',\n",
       " 'Evolution Strategy agent',\n",
       " 'Double Q-learning agent',\n",
       " 'Recurrent Q-learning agent',\n",
       " 'Double Recurrent Q-learning agent',\n",
       " 'Duel Q-learning agent',\n",
       " 'Double Duel Q-learning agent',\n",
       " 'Duel Recurrent Q-learning agent',\n",
       " 'Double Duel Recurrent Q-learning agent',\n",
       " 'Actor-critic agent',\n",
       " 'Actor-critic Duel agent',\n",
       " 'Actor-critic Recurrent agent',\n",
       " 'Actor-critic Duel Recurrent agent',\n",
       " 'Curiosity Q-learning agent',\n",
       " 'Recurrent Curiosity Q-learning agent',\n",
       " 'Duel Curiosity Q-learning agent',\n",
       " 'Neuro-evolution agent',\n",
       " 'Neuro-evolution with Novelty Search agent',\n",
       " 'ABCD Strategy agent',\n",
       " 'Deep Evolution Strategy']"
      ]
     },
     "execution_count": 2,
     "metadata": {},
     "output_type": "execute_result"
    }
   ],
   "source": [
    "agents"
   ]
  },
  {
   "cell_type": "code",
   "execution_count": 3,
   "metadata": {},
   "outputs": [],
   "source": [
    "with open('D:/kenneth/trading/sp500/sp500tickers.txt','r') as f:\n",
    "    tickers=[line.rstrip('\\n') for line in f]"
   ]
  },
  {
   "cell_type": "code",
   "execution_count": null,
   "metadata": {},
   "outputs": [],
   "source": []
  },
  {
   "cell_type": "code",
   "execution_count": null,
   "metadata": {},
   "outputs": [],
   "source": []
  }
 ],
 "metadata": {
  "kernelspec": {
   "display_name": "Python [conda env:gpu]",
   "language": "python",
   "name": "conda-env-gpu-py"
  },
  "language_info": {
   "codemirror_mode": {
    "name": "ipython",
    "version": 3
   },
   "file_extension": ".py",
   "mimetype": "text/x-python",
   "name": "python",
   "nbconvert_exporter": "python",
   "pygments_lexer": "ipython3",
   "version": "3.6.6"
  }
 },
 "nbformat": 4,
 "nbformat_minor": 2
}
